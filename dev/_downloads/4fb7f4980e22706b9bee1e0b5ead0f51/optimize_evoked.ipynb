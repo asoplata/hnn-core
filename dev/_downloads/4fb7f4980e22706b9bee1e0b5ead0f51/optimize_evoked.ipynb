{
  "cells": [
    {
      "cell_type": "code",
      "execution_count": null,
      "metadata": {
        "collapsed": false
      },
      "outputs": [],
      "source": [
        "import pyvista as pv\nfrom mne.viz import set_3d_backend\nset_3d_backend('notebook')\npv.set_jupyter_backend('client')"
      ]
    },
    {
      "cell_type": "markdown",
      "metadata": {},
      "source": [
        "\n# 05. Optimize simulated evoked response parameters\n\nThis example demonstrates how to optimize the parameters\nof the model simulation to match an experimental dipole waveform.\n"
      ]
    },
    {
      "cell_type": "code",
      "execution_count": null,
      "metadata": {
        "collapsed": false
      },
      "outputs": [],
      "source": [
        "# Authors: Carolina Fernandez <cxf418@miami.edu>\n#          Nick Tolley <nicholas_tolley@brown.edu>\n#          Ryan Thorpe <ryan_thorpe@brown.edu>\n#          Mainak Jas <mjas@mgh.harvard.edu>\n\nfrom hnn_core.optimization import Optimizer\nfrom urllib.request import urlretrieve\nimport os.path as op\n\nimport matplotlib.pyplot as plt\nfrom matplotlib.lines import Line2D"
      ]
    },
    {
      "cell_type": "markdown",
      "metadata": {},
      "source": [
        "## 1. Import libraries and set up environment\n\nWe'll start by importing the necessary `hnn_core` modules and other libraries\nrequired for this tutorial.\n\n"
      ]
    },
    {
      "cell_type": "code",
      "execution_count": null,
      "metadata": {
        "collapsed": false
      },
      "outputs": [],
      "source": [
        "import hnn_core\nfrom hnn_core import (MPIBackend, jones_2009_model, simulate_dipole,\n                      read_dipole)\nfrom hnn_core.viz import plot_dipole\n\nhnn_core_root = op.join(op.dirname(hnn_core.__file__))\n\n# The number of cores may need modifying depending on your current machine.\nn_procs = 10"
      ]
    },
    {
      "cell_type": "markdown",
      "metadata": {},
      "source": [
        "## 2. Load experimental dipole\n\nOur goal is to optimize our model to match experimental data.\n\nWe'll load a pre-recorded MEG dipole waveform, which represents early evoked\nactivity from primary somatosensory cortex in response to a brief tap to\nthe finger. This data will serve as our *target dipole* for the optimization\nprocess.\n\n"
      ]
    },
    {
      "cell_type": "code",
      "execution_count": null,
      "metadata": {
        "collapsed": false
      },
      "outputs": [],
      "source": [
        "data_url = ('https://raw.githubusercontent.com/jonescompneurolab/hnn/master/'\n            'data/MEG_detection_data/yes_trial_S1_ERP_all_avg.txt')\nurlretrieve(data_url, 'yes_trial_S1_ERP_all_avg.txt')\ndipole_experimental = read_dipole('yes_trial_S1_ERP_all_avg.txt')\n\n# Plot\nfig, ax = plt.subplots(figsize=(6, 6))\ndipole_experimental.plot(ax=ax, layer='agg', show=False,\n                         color='tab:blue')\nax.legend(['experimental'])"
      ]
    },
    {
      "cell_type": "markdown",
      "metadata": {},
      "source": [
        "## 3. Simulate initial dipole\n\nNow, we'll simulate the initial dipole using a predefined set of parameters\nwe arrived to after some hand-tuning. This simulation will provide a baseline\nto compare against the experimental data before optimization.\n\n"
      ]
    },
    {
      "cell_type": "code",
      "execution_count": null,
      "metadata": {
        "collapsed": false
      },
      "outputs": [],
      "source": [
        "net_initial = jones_2009_model()\n\nn_drive_cells = 1\ncell_specific = False\n\n# Proximal 1\nweights_ampa_p1 = {'L2_basket': 0.08831, 'L2_pyramidal': 0.01525,\n                   'L5_basket': 0.19934, 'L5_pyramidal': 0.00865}\nsynaptic_delays_p = {'L2_basket': 0.1, 'L2_pyramidal': 0.1,\n                     'L5_basket': 1., 'L5_pyramidal': 1.}\nnet_initial.add_evoked_drive('evprox1',\n                             mu=26.61,\n                             sigma=2.47,\n                             numspikes=1,\n                             location='proximal',\n                             weights_ampa=weights_ampa_p1,\n                             synaptic_delays=synaptic_delays_p,\n                             n_drive_cells=n_drive_cells,\n                             cell_specific=cell_specific)\n\n# Distal\nweights_ampa_d1 = {'L2_basket': 0.006562, 'L2_pyramidal': .000007,\n                   'L5_pyramidal': 0.142300}\nweights_nmda_d1 = {'L2_basket': 0.019482, 'L2_pyramidal': 0.004317,\n                   'L5_pyramidal': 0.080074}\nsynaptic_delays_d1 = {'L2_basket': 0.1, 'L2_pyramidal': 0.1,\n                      'L5_pyramidal': 0.1}\nnet_initial.add_evoked_drive('evdist1',\n                             mu=63.53,\n                             sigma=3.85,\n                             numspikes=1,\n                             location='distal',\n                             weights_ampa=weights_ampa_d1,\n                             weights_nmda=weights_nmda_d1,\n                             synaptic_delays=synaptic_delays_d1,\n                             n_drive_cells=n_drive_cells,\n                             cell_specific=cell_specific)\n\n# Proximal 2\nweights_ampa_p2 = {'L2_basket': 0.000003, 'L2_pyramidal': 1.438840,\n                   'L5_basket': 0.008958, 'L5_pyramidal': 0.1}\nnet_initial.add_evoked_drive('evprox2',\n                             mu=120.,\n                             sigma=1.,\n                             numspikes=1,\n                             location='proximal',\n                             weights_ampa=weights_ampa_p2,\n                             synaptic_delays=synaptic_delays_p,\n                             n_drive_cells=n_drive_cells,\n                             cell_specific=cell_specific)\n\n# Simulate initial dipole\nn_trials = 3\ntstop = dipole_experimental.times[-1]\nwith MPIBackend(n_procs=n_procs, mpi_cmd='mpiexec'):\n    dipoles_initial = simulate_dipole(\n        net_initial, tstop=tstop, n_trials=n_trials)\n\n# Smooth and scale\nwindow_length = 30\nscaling_factor = 3000\nfor dipole in dipoles_initial:\n    dipole.smooth(window_length).scale(scaling_factor)\n\n# Plot\nfig, ax = plt.subplots(figsize=(6, 6))\ndipole_experimental.plot(ax=ax, layer='agg', show=False,\n                         color='tab:blue')\nplot_dipole(dipoles_initial.copy(), ax=ax, layer='agg', show=False,\n            color='tab:orange', average=True)\n\n# Legend\nlegend_handles = [Line2D([0], [0], color='tab:blue', lw=1.0),\n                  Line2D([0], [0], color='tab:orange', lw=1.0)]\nax.legend(legend_handles, ['experimental', 'initial'])"
      ]
    },
    {
      "cell_type": "markdown",
      "metadata": {},
      "source": [
        "## 4. Define the ``set_params`` function\n\nNow we can begin the optimization!\n\nFirst, we'll define a ``set_params`` function. This function tells the optimizer\nhow to apply the chosen parameters to the network during each iteration.\n\nComparison of the initial dipoles reveals that the second positive peak of the\nexperimental dipole (blue) has a larger amplitude, later latency, and broader\ntemporal distribution than the corresponding peak in the initial dipole (orange).\n\nLet's optimize the relevant parameters for the second proximal (evprox2) drive,\nas it is primarily responsible for this component of the dipole.\n\n"
      ]
    },
    {
      "cell_type": "code",
      "execution_count": null,
      "metadata": {
        "collapsed": false
      },
      "outputs": [],
      "source": [
        "def set_params(net, params):\n\n    # Proximal 1\n    net.add_evoked_drive('evprox1',\n                         mu=26.61,\n                         sigma=2.47,\n                         numspikes=1,\n                         location='proximal',\n                         weights_ampa=weights_ampa_p1,\n                         synaptic_delays=synaptic_delays_p,\n                         n_drive_cells=n_drive_cells,\n                         cell_specific=cell_specific)\n\n    # Distal\n    net.add_evoked_drive('evdist1',\n                         mu=63.53,\n                         sigma=3.85,\n                         numspikes=1,\n                         location='distal',\n                         weights_ampa=weights_ampa_d1,\n                         weights_nmda=weights_nmda_d1,\n                         synaptic_delays=synaptic_delays_d1,\n                         n_drive_cells=n_drive_cells,\n                         cell_specific=cell_specific)\n\n    # Proximal 2\n    weights_ampa_p2 = {'L2_basket': 0.000003, 'L2_pyramidal': 1.438840,\n                       'L5_basket': 0.008958, 'L5_pyramidal': params['evprox2_ampa_L5_pyramidal']}\n    net.add_evoked_drive('evprox2',\n                         mu=params['evprox2_mu'],\n                         sigma=params['evprox2_sigma'],\n                         numspikes=1,\n                         location='proximal',\n                         weights_ampa=weights_ampa_p2,\n                         synaptic_delays=synaptic_delays_p,\n                         n_drive_cells=n_drive_cells,\n                         cell_specific=cell_specific)"
      ]
    },
    {
      "cell_type": "markdown",
      "metadata": {},
      "source": [
        "## 5. Define optimization constraints\n\nThe constraints define the permissible range (lower and upper bounds) for each\nparameter during the optimization process.\n\nThe ranges for synaptic weights (\u00b5S) are set to maintain physiologically\nrealistic model behavior, rather than solely relying on existing literature values.\n\n"
      ]
    },
    {
      "cell_type": "code",
      "execution_count": null,
      "metadata": {
        "collapsed": false
      },
      "outputs": [],
      "source": [
        "constraints = dict({'evprox2_ampa_L5_pyramidal': (0.01, 1.0),\n                    'evprox2_mu': (100., 150.),\n                    'evprox2_sigma': (1., 20.)})"
      ]
    },
    {
      "cell_type": "markdown",
      "metadata": {},
      "source": [
        "## 6. Define the initial parameters\n\nFor optimal results, set initial_params to your hand-tuned values since they\nalready provide a good fit.\n\nIf ``initial_params`` is not set, the optimizer will use the midpoint of the\nconstraints as the initial parameters.\n\n"
      ]
    },
    {
      "cell_type": "code",
      "execution_count": null,
      "metadata": {
        "collapsed": false
      },
      "outputs": [],
      "source": [
        "initial_params = dict({'evprox2_ampa_L5_pyramidal': 0.1,\n                       'evprox2_mu': 120.,\n                       'evprox2_sigma': 1.})"
      ]
    },
    {
      "cell_type": "markdown",
      "metadata": {},
      "source": [
        "## 7. Initialize and run the optimizer\n\nFinally, let's initialize and run the optimizer. We'll instantiate the Optimizer\nclass, providing our network, simulation time, constraints, and the ``set_params``\nfunction.\n\nBy default, the Optimizer aims to minimize the Root Mean Square Error (RMSE)\nbetween the simulated and experimental dipoles.\n\nTo capture the model's average behavior, it's recommended to set ``n_trials``\nto a value greater than 1. Using ``n_trials=1`` might find a parameter set that\nworks well for a single, specific simulation run but performs poorly on average.\n\nAdditionally, while ``max_iter`` is set to 50 in this example for a quicker\ndemonstration, you can set it to any value. The default is 200.\n\n<div class=\"alert alert-info\"><h4>Note</h4><p>A custom objective function can also be supplied.</p></div>\n\n"
      ]
    },
    {
      "cell_type": "code",
      "execution_count": null,
      "metadata": {
        "collapsed": false
      },
      "outputs": [],
      "source": [
        "net = jones_2009_model()\noptim = Optimizer(net, tstop=tstop, constraints=constraints,\n                  set_params=set_params, initial_params=initial_params, max_iter=50)\nwith MPIBackend(n_procs=n_procs, mpi_cmd='mpiexec'):\n    optim.fit(target=dipole_experimental, n_trials=n_trials, scale_factor=scaling_factor,\n              smooth_window_len=window_length)"
      ]
    },
    {
      "cell_type": "markdown",
      "metadata": {},
      "source": [
        "## 8. Simulate the optimized dipole\n\nNow, we can simulate the dipole using the newly found optimized parameters\nto see how well they match the experimental data.\n\n"
      ]
    },
    {
      "cell_type": "code",
      "execution_count": null,
      "metadata": {
        "collapsed": false
      },
      "outputs": [],
      "source": [
        "with MPIBackend(n_procs=n_procs, mpi_cmd='mpiexec'):\n    dipoles_optimized = simulate_dipole(\n        optim.net_, tstop=tstop, n_trials=n_trials)\n\n# Smooth and scale\nfor dipole in dipoles_optimized:\n    dipole.smooth(window_length).scale(scaling_factor)"
      ]
    },
    {
      "cell_type": "markdown",
      "metadata": {},
      "source": [
        "## 9. Visualize the results\n\nFinally, we can compare the experimental, initial, and optimized dipoles.\n\nWe can also plot the convergence.\n\n"
      ]
    },
    {
      "cell_type": "code",
      "execution_count": null,
      "metadata": {
        "collapsed": false
      },
      "outputs": [],
      "source": [
        "fig, ax = plt.subplots(sharex=True, figsize=(6, 6))\ndipole_experimental.plot(ax=ax, layer='agg', show=False,\n                         color='tab:blue')\nplot_dipole(dipoles_initial.copy(), ax=ax, layer='agg', show=False,\n            color='tab:orange', average=True)\nplot_dipole(dipoles_optimized.copy(), ax=ax, layer='agg',\n            show=False, color='tab:green', average=True)\n\n# Legend\nlegend_handles = [Line2D([0], [0], color='tab:blue', lw=1.0),\n                  Line2D([0], [0], color='tab:orange', lw=1.0),\n                  Line2D([0], [0], color='tab:green', lw=1.0)]\nax.legend(legend_handles, ['experimental', 'initial', 'optimized'])\n\n# Convergence plot\noptim.plot_convergence()\nplt.show()"
      ]
    }
  ],
  "metadata": {
    "kernelspec": {
      "display_name": "Python 3",
      "language": "python",
      "name": "python3"
    },
    "language_info": {
      "codemirror_mode": {
        "name": "ipython",
        "version": 3
      },
      "file_extension": ".py",
      "mimetype": "text/x-python",
      "name": "python",
      "nbconvert_exporter": "python",
      "pygments_lexer": "ipython3",
      "version": "3.13.9"
    }
  },
  "nbformat": 4,
  "nbformat_minor": 0
}