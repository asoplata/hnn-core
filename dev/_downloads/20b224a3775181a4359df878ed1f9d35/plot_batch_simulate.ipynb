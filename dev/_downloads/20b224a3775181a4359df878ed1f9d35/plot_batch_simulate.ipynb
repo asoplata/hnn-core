{
  "cells": [
    {
      "cell_type": "code",
      "execution_count": null,
      "metadata": {
        "collapsed": false
      },
      "outputs": [],
      "source": [
        "import pyvista as pv\nfrom mne.viz import set_3d_backend\nset_3d_backend('notebook')\npv.set_jupyter_backend('client')"
      ]
    },
    {
      "cell_type": "markdown",
      "metadata": {},
      "source": [
        "\n# 07. Batch Simulation\n\nThis example shows how to do batch simulations in HNN-core, allowing users to\nefficiently run multiple simulations with different parameters\nfor comprehensive analysis.\n"
      ]
    },
    {
      "cell_type": "code",
      "execution_count": null,
      "metadata": {
        "collapsed": false
      },
      "outputs": [],
      "source": [
        "# Authors: Abdul Samad Siddiqui <abdulsamadsid1@gmail.com>\n#          Nick Tolley <nicholas_tolley@brown.edu>\n#          Ryan Thorpe <ryan_thorpe@brown.edu>\n#          Mainak Jas <mjas@mgh.harvard.edu>\n#\n# This project was supported by Google Summer of Code (GSoC) 2024."
      ]
    },
    {
      "cell_type": "markdown",
      "metadata": {},
      "source": [
        "Let us import ``hnn_core``.\n\n"
      ]
    },
    {
      "cell_type": "code",
      "execution_count": null,
      "metadata": {
        "collapsed": false
      },
      "outputs": [],
      "source": [
        "import matplotlib.pyplot as plt\nimport numpy as np\nfrom hnn_core.batch_simulate import BatchSimulate\nfrom hnn_core import jones_2009_model\n\n# The number of cores may need modifying depending on your current machine.\nn_jobs = 4"
      ]
    },
    {
      "cell_type": "markdown",
      "metadata": {},
      "source": [
        "The `add_evoked_drive` function simulates external input to the network,\nmimicking sensory stimulation or other external events.\n\n- `evprox` indicates a proximal drive, targeting dendrites near the cell\n  bodies.\n- `mu=40` and `sigma=5` define the timing (mean and spread) of the input.\n- `weights_ampa` and `synaptic_delays` control the strength and\n  timing of the input.\n\nThis evoked drive causes the initial positive deflection in the dipole\nsignal, triggering a cascade of activity through the network and\nresulting in the complex waveforms observed.\n\n"
      ]
    },
    {
      "cell_type": "code",
      "execution_count": null,
      "metadata": {
        "collapsed": false
      },
      "outputs": [],
      "source": [
        "def set_params(param_values, net=None):\n    \"\"\"\n    Set parameters for the network drives.\n\n    Parameters\n    ----------\n    param_values : dict\n        Dictionary of parameter values.\n    net : instance of Network, optional\n        If None, a new network is created using the specified model type.\n    \"\"\"\n    weights_ampa = {'L2_basket': param_values['weight_basket'],\n                    'L2_pyramidal': param_values['weight_pyr'],\n                    'L5_basket': param_values['weight_basket'],\n                    'L5_pyramidal': param_values['weight_pyr']}\n\n    synaptic_delays = {'L2_basket': 0.1, 'L2_pyramidal': 0.1,\n                       'L5_basket': 1., 'L5_pyramidal': 1.}\n\n    # Add an evoked drive to the network.\n    net.add_evoked_drive('evprox',\n                         mu=40,\n                         sigma=5,\n                         numspikes=1,\n                         location='proximal',\n                         weights_ampa=weights_ampa,\n                         synaptic_delays=synaptic_delays)"
      ]
    },
    {
      "cell_type": "markdown",
      "metadata": {},
      "source": [
        "Next, we define a parameter grid for the batch simulation.\n\n"
      ]
    },
    {
      "cell_type": "code",
      "execution_count": null,
      "metadata": {
        "collapsed": false
      },
      "outputs": [],
      "source": [
        "param_grid = {\n    'weight_basket': np.logspace(-4, -1, 20),\n    'weight_pyr': np.logspace(-4, -1, 20)\n}"
      ]
    },
    {
      "cell_type": "markdown",
      "metadata": {},
      "source": [
        "We then define a function to calculate summary statistics.\n\n"
      ]
    },
    {
      "cell_type": "code",
      "execution_count": null,
      "metadata": {
        "collapsed": false
      },
      "outputs": [],
      "source": [
        "def summary_func(results):\n    \"\"\"\n    Calculate the min and max dipole peak for each simulation result.\n\n    Parameters\n    ----------\n    results : list\n        List of dictionaries containing simulation results.\n\n    Returns\n    -------\n    summary_stats : list\n        Summary statistics for each simulation result.\n    \"\"\"\n    summary_stats = []\n    for result in results:\n        dpl_smooth = result['dpl'][0].copy().smooth(window_len=30)\n        dpl_data = dpl_smooth.data['agg']\n        min_peak = np.min(dpl_data)\n        max_peak = np.max(dpl_data)\n        summary_stats.append({'min_peak': min_peak, 'max_peak': max_peak})\n    return summary_stats"
      ]
    },
    {
      "cell_type": "markdown",
      "metadata": {},
      "source": [
        "Run the batch simulation and collect the results.\n\n"
      ]
    },
    {
      "cell_type": "code",
      "execution_count": null,
      "metadata": {
        "collapsed": false
      },
      "outputs": [],
      "source": [
        "# Initialize the network model and run the batch simulation.\nnet = jones_2009_model(mesh_shape=(3, 3))\nbatch_simulation = BatchSimulate(net=net,\n                                 set_params=set_params,\n                                 summary_func=summary_func)\nsimulation_results = batch_simulation.run(param_grid,\n                                          n_jobs=n_jobs,\n                                          combinations=False,\n                                          backend='loky')\n\nprint(\"Simulation results:\", simulation_results)"
      ]
    },
    {
      "cell_type": "markdown",
      "metadata": {},
      "source": [
        "This plot shows an overlay of all smoothed dipole waveforms from the\nbatch simulation. Each line represents a different set of synaptic strength\nparameters (`weight_basket`), allowing us to visualize the range of responses\nacross the parameter space.\nThe colormap represents synaptic strengths, from weaker (purple)\nto stronger (yellow).\n\nAs drive strength increases, dipole responses show progressively larger\namplitudes and more distinct features, reflecting heightened network\nactivity. Weak drives (purple lines) produce smaller amplitude signals with\nsimpler waveforms, while stronger drives (yellow lines) generate\nlarger responses with more pronounced oscillatory features, indicating\nmore robust network activity.\n\nThe y-axis represents dipole amplitude in nAm (nanoAmpere-meters), which is\nthe product of current flow and distance in the neural tissue.\n\nStronger synaptic connections (yellow lines) generally show larger\namplitude responses and more pronounced features throughout the simulation.\n\n"
      ]
    },
    {
      "cell_type": "code",
      "execution_count": null,
      "metadata": {
        "collapsed": false
      },
      "outputs": [],
      "source": [
        "dpl_waveforms, param_values = [], []\nfor data_list in simulation_results['simulated_data']:\n    for data in data_list:\n        dpl_smooth = data['dpl'][0].copy().smooth(window_len=30)\n        dpl_waveforms.append(dpl_smooth.data['agg'])\n        param_values.append(data['param_values']['weight_basket'])\n\nplt.figure(figsize=(10, 6))\ncmap = plt.get_cmap('viridis')\nlog_param_values = np.log10(param_values)\nnorm = plt.Normalize(log_param_values.min(), log_param_values.max())\n\nfor waveform, log_param in zip(dpl_waveforms, log_param_values):\n    color = cmap(norm(log_param))\n    plt.plot(waveform, color=color, alpha=0.7, linewidth=2)\nplt.title('Overlay of Dipole Waveforms')\nplt.xlabel('Time (ms)')\nplt.ylabel('Dipole Amplitude (nAm)')\nplt.grid(True)\nplt.tight_layout()\nplt.show()"
      ]
    },
    {
      "cell_type": "markdown",
      "metadata": {},
      "source": [
        "This plot displays the minimum and maximum dipole peaks across\ndifferent synaptic strengths. This allows us to see how the range of\ndipole activity changes as we vary the synaptic strength parameter.\n\n"
      ]
    },
    {
      "cell_type": "code",
      "execution_count": null,
      "metadata": {
        "collapsed": false
      },
      "outputs": [],
      "source": [
        "min_peaks, max_peaks, param_values = [], [], []\nfor summary_list, data_list in zip(simulation_results['summary_statistics'],\n                                   simulation_results['simulated_data']):\n    for summary, data in zip(summary_list, data_list):\n        min_peaks.append(summary['min_peak'])\n        max_peaks.append(summary['max_peak'])\n        param_values.append(data['param_values']['weight_basket'])\n\n# Plotting\nplt.figure(figsize=(10, 6))\nplt.plot(param_values, min_peaks, label='Min Dipole Peak')\nplt.plot(param_values, max_peaks, label='Max Dipole Peak')\nplt.xlabel('Synaptic Strength (nS)')\nplt.ylabel('Dipole Peak Magnitude')\nplt.title('Min and Max Dipole Peaks across Simulations')\nplt.legend()\nplt.grid(True)\nplt.xscale('log')\nplt.tight_layout()\nplt.show()"
      ]
    }
  ],
  "metadata": {
    "kernelspec": {
      "display_name": "Python 3",
      "language": "python",
      "name": "python3"
    },
    "language_info": {
      "codemirror_mode": {
        "name": "ipython",
        "version": 3
      },
      "file_extension": ".py",
      "mimetype": "text/x-python",
      "name": "python",
      "nbconvert_exporter": "python",
      "pygments_lexer": "ipython3",
      "version": "3.8.20"
    }
  },
  "nbformat": 4,
  "nbformat_minor": 0
}