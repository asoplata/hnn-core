{
  "cells": [
    {
      "cell_type": "code",
      "execution_count": null,
      "metadata": {
        "collapsed": false
      },
      "outputs": [],
      "source": [
        "import pyvista as pv\nfrom mne.viz import set_3d_backend\nset_3d_backend('notebook')\npv.set_jupyter_backend('client')"
      ]
    },
    {
      "cell_type": "markdown",
      "metadata": {},
      "source": [
        "\n# 09. Replaying Spike Data as Input\n\nWelcome to this hands-on tutorial on simulating communication between two neocortical\nnetworks using HNN-Core! This notebook guides you through creating a source network\n(Network A), extracting its spike data, feeding it into a target network (Network B)\nusing the `add_spike_train_drive` method, simulating both, and visualizing the\nresults. Let's dive in!\n"
      ]
    },
    {
      "cell_type": "code",
      "execution_count": null,
      "metadata": {
        "collapsed": false
      },
      "outputs": [],
      "source": [
        "# Authors: Maira Usman <maira.usman5703@gmail.com>"
      ]
    },
    {
      "cell_type": "markdown",
      "metadata": {},
      "source": [
        "## Step 1: Setting Up the Source Network (Network A)\n\nOur journey begins with Network A, the source of neural activity. We'll use the\n`jones_2009_model` to create a realistic neocortical network and simulate it with an\nevoked drive to generate spike data. This step mimics how a network might produce\nactivity in a real brain region, which we'll later transmit to another network.\n\nThe simulation runs for 170 ms, and we'll save the spike data to a temporary file for\nefficient handling.\n\n"
      ]
    },
    {
      "cell_type": "code",
      "execution_count": null,
      "metadata": {
        "collapsed": false
      },
      "outputs": [],
      "source": [
        "import numpy as np\nimport matplotlib.pyplot as plt\nfrom hnn_core import jones_2009_model, simulate_dipole, read_spikes\nimport os.path as op\nimport tempfile\n\n# Create and simulate Network A\nprint(\"Creating and simulating Network A...\")\nnet_A = jones_2009_model()\nnet_A._params.update({'tstop': 170.0})\n\n# Add a drive to generate activity\nprint(\"Adding drive to Network A...\")\ndrive_params = {\n    'name': 'evdist1', 'mu': 63.5, 'sigma': 3.8, 'numspikes': 1,\n    'location': 'distal', 'event_seed': 274\n}\nweights = {\n    'ampa': {'L2_basket': 0.006, 'L2_pyramidal': 0.0005, 'L5_pyramidal': 0.14},\n    'nmda': {'L2_basket': 0.019, 'L2_pyramidal': 0.004, 'L5_pyramidal': 0.08}\n}\ndelays = {'L2_basket': 0.1, 'L2_pyramidal': 0.1, 'L5_pyramidal': 0.1}\nnet_A.add_evoked_drive(\n    **drive_params, weights_ampa=weights['ampa'], weights_nmda=weights['nmda'],\n    synaptic_delays=delays\n)\n\n# Simulate and save spike data\nprint(\"Simulating Network A and saving spikes...\")\ndpls_A = simulate_dipole(net_A, tstop=170.0, n_trials=1)\nwith tempfile.TemporaryDirectory() as tmp_dir:\n    spike_file = op.join(tmp_dir, 'spk_%d.txt')\n    net_A.cell_response.write(spike_file)\n    cell_response = read_spikes(op.join(tmp_dir, 'spk_*.txt'))\n    print(f\"Extracted {sum(len(t) for t in cell_response.spike_times)} spikes from Network A\")"
      ]
    },
    {
      "cell_type": "markdown",
      "metadata": {},
      "source": [
        "## Step 2: Configuring the Target Network (Network B)\n\nNow, let's set up Network B, the target network that will receive spike data from\nNetwork A. We'll extract spikes from the first trial of Network A, filter for\npyramidal cells, and format them into a dictionary compatible with\n`add_spike_train_drive`. This process is akin to distributing computed data across\nnodes in an MPI setup, where each node (here, Network B) processes a subset of the\ninput.\n\nWe'll also define connection properties to map Network A's pyramidal cells to Network\nB's layers, ensuring a realistic interaction.\n\n"
      ]
    },
    {
      "cell_type": "code",
      "execution_count": null,
      "metadata": {
        "collapsed": false
      },
      "outputs": [],
      "source": [
        "print(\"Creating and configuring Network B...\")\nnet_B = jones_2009_model()\nnet_B._params.update({'tstop': 225.0})\n\n# Extract spike data from first trial and filter for pyramidal cells\ntrial_idx = 0\nspike_times = cell_response.spike_times[trial_idx]\nspike_gids = cell_response.spike_gids[trial_idx]\nspike_types = cell_response.spike_types[trial_idx]\npyramidal_mask = np.array([t in ['L2_pyramidal', 'L5_pyramidal'] for t in spike_types])\nfiltered_times = np.array(spike_times)[pyramidal_mask]\nfiltered_gids = np.array(spike_gids)[pyramidal_mask]\nfiltered_types = np.array(spike_types)[pyramidal_mask]\nspike_data = {f\"NetA_{t}_GID{g}\": [] for t, g in zip(filtered_types, filtered_gids)}\nfor t, g, time in zip(filtered_types, filtered_gids, filtered_times):\n    src_id = f\"NetA_{t}_GID{g}\"\n    spike_data[src_id].append(time)\n\nprint(f\"Number of valid pyramidal cells with spikes to be used for input: {len(spike_data)}\")\n\n# Define target configuration\nconn_properties = {\n    'L5_pyramidal': {'location': 'distal', 'weights_ampa': 0.005, 'synaptic_delays': 1.5},\n    'L2_pyramidal': {'location': 'proximal', 'weights_ampa': 0.003, 'synaptic_delays': 1.0}\n}\ntarget_config = {}\nsource_ids = list(spike_data.keys())\nfor i, src_id in enumerate(source_ids):\n    target_type = 'L5_pyramidal' if i % 2 == 0 else 'L2_pyramidal'\n    props = conn_properties[target_type]\n    target_config[src_id] = {\n        'target_cell_types': [target_type],\n        'location': props['location'],\n        'weights_ampa': {target_type: props['weights_ampa']},\n        'synaptic_delays': {target_type: props['synaptic_delays']},\n        'probability': 0.7\n    }\nall_weights_ampa = {k: cfg['weights_ampa'][k] for cfg in target_config.values() for k in cfg['weights_ampa']}\n\n# Add spike train drive to Network B\nnet_B.add_spike_train_drive(\n    name='drive_from_NetA',\n    spike_data=spike_data,\n    location='distal',\n    weights_ampa=all_weights_ampa,\n    weights_nmda=None,\n    synaptic_delays=0.1,\n    conn_seed=42\n)"
      ]
    },
    {
      "cell_type": "markdown",
      "metadata": {},
      "source": [
        "## Step 3: Simulating and Visualizing the Networks\n\nWith Network B configured, we'll simulate it for 225 ms to observe the effect of\nNetwork A's spikes. Visualization is key in neuroscience, so we'll create raster plots\nfor both networks. This step lets you see how the input from Network A influences\nNetwork B's activity.\n\n"
      ]
    },
    {
      "cell_type": "code",
      "execution_count": null,
      "metadata": {
        "collapsed": false
      },
      "outputs": [],
      "source": [
        "print(\"Simulating Network B...\")\ndpls_b = simulate_dipole(net_B, tstop=225.0, n_trials=1)\n\n# Visualize results\nfig, axes = plt.subplots(2, 1, figsize=(10, 12), sharex=True, constrained_layout=True)\n# 1. Network A: Spike raster\nnet_A.cell_response.plot_spikes_raster(ax=axes[0], show=False)\naxes[0].set_title('Network A: Spike Raster')\naxes[0].set_ylabel('Cell ID')\n# 2. Network B: Spike raster\nnet_B.cell_response.plot_spikes_raster(ax=axes[1], show=False)\naxes[1].set_title('Network B: Spike Raster')\naxes[1].set_ylabel('Cell ID')\naxes[1].set_xlabel('Time (ms)')\nplt.show()"
      ]
    },
    {
      "cell_type": "markdown",
      "metadata": {},
      "source": [
        "Now that the simulation is finished, let's verify the drive setup and ensure the\nconnection was established correctly.\n\n"
      ]
    },
    {
      "cell_type": "code",
      "execution_count": null,
      "metadata": {
        "collapsed": false
      },
      "outputs": [],
      "source": [
        "print(\"\\nVerifying configuration:\")\ndrive_name = 'drive_from_NetA'\nif drive_name in net_B.external_drives:\n    drive = net_B.external_drives[drive_name]\n    print(f\"  Drive '{drive_name}' created with {drive['n_drive_cells']} cells\")\n    if drive_name in net_B.gid_ranges:\n        print(f\"  GIDs assigned: {net_B.gid_ranges[drive_name]}\")\n    drive_connections = sum(1 for conn in net_B.connectivity if conn['src_type'] == drive_name)\n    print(f\"  Number of connections from drive: {drive_connections}\")\nelse:\n    print(f\"  ERROR: Drive '{drive_name}' not found\")"
      ]
    },
    {
      "cell_type": "markdown",
      "metadata": {},
      "source": [
        "## Conclusion\n\nYou've now successfully replayed spikes from one network into another network! The\nraster plots show how Network A's activity influences Network B, while the\nverification confirms the drive setup. This approach is scalable\u2014similar to MPI's\ndistributed computing\u2014allowing you to experiment with multiple networks or adjust\nparameters like weights and delays to explore different dynamics. Try modifying the\n`weights_ampa` or `synaptic_delays` values in Step 2 to see how they affect the\nresults!\n\n"
      ]
    }
  ],
  "metadata": {
    "kernelspec": {
      "display_name": "Python 3",
      "language": "python",
      "name": "python3"
    },
    "language_info": {
      "codemirror_mode": {
        "name": "ipython",
        "version": 3
      },
      "file_extension": ".py",
      "mimetype": "text/x-python",
      "name": "python",
      "nbconvert_exporter": "python",
      "pygments_lexer": "ipython3",
      "version": "3.13.7"
    }
  },
  "nbformat": 4,
  "nbformat_minor": 0
}