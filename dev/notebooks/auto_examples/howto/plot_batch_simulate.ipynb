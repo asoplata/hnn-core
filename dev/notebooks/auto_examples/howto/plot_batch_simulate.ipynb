{
  "cells": [
    {
      "cell_type": "code",
      "execution_count": null,
      "metadata": {
        "collapsed": false
      },
      "outputs": [],
      "source": [
        "import pyvista as pv\nfrom mne.viz import set_3d_backend\nset_3d_backend('notebook')\npv.set_jupyter_backend('client')"
      ]
    },
    {
      "cell_type": "markdown",
      "metadata": {},
      "source": [
        "\n# 07. Batch Simulation\n\nThis example shows how to do batch simulations in HNN-core, allowing users to\nefficiently run multiple simulations with different parameters\nfor comprehensive analysis.\n"
      ]
    },
    {
      "cell_type": "code",
      "execution_count": null,
      "metadata": {
        "collapsed": false
      },
      "outputs": [],
      "source": [
        "# Authors: Abdul Samad Siddiqui <abdulsamadsid1@gmail.com>\n#          Nick Tolley <nicholas_tolley@brown.edu>\n#          Ryan Thorpe <ryan_thorpe@brown.edu>\n#          Mainak Jas <mjas@mgh.harvard.edu>"
      ]
    },
    {
      "cell_type": "markdown",
      "metadata": {},
      "source": [
        "Let us import ``hnn_core``.\n\n"
      ]
    },
    {
      "cell_type": "code",
      "execution_count": null,
      "metadata": {
        "collapsed": false
      },
      "outputs": [],
      "source": [
        "import matplotlib.pyplot as plt\nimport numpy as np\nfrom hnn_core.batch_simulate import BatchSimulate\nfrom hnn_core import jones_2009_model\n\n# The number of cores may need modifying depending on your current machine.\nn_jobs = 10"
      ]
    },
    {
      "cell_type": "code",
      "execution_count": null,
      "metadata": {
        "collapsed": false
      },
      "outputs": [],
      "source": [
        "def set_params(param_values, net=None):\n    \"\"\"\n    Set parameters in the network drives.\n\n    Parameters\n    ----------\n    param_values : dict\n        Dictionary of parameter values.\n    net : instance of Network, optional\n        If None, a new network is created using the specified model type.\n    \"\"\"\n    if net is None:\n        net = jones_2009_model()\n\n    weights_ampa = {'L2_basket': param_values['weight_basket'],\n                    'L2_pyramidal': param_values['weight_pyr'],\n                    'L5_basket': param_values['weight_basket'],\n                    'L5_pyramidal': param_values['weight_pyr']}\n\n    synaptic_delays = {'L2_basket': 0.1, 'L2_pyramidal': 0.1,\n                       'L5_basket': 1., 'L5_pyramidal': 1.}\n\n    # Add an evoked drive to the network.\n    net.add_evoked_drive('evprox',\n                         mu=40,\n                         sigma=5,\n                         numspikes=1,\n                         location='proximal',\n                         weights_ampa=weights_ampa,\n                         synaptic_delays=synaptic_delays)"
      ]
    },
    {
      "cell_type": "markdown",
      "metadata": {},
      "source": [
        "Define a parameter grid for the batch simulation.\n\n"
      ]
    },
    {
      "cell_type": "code",
      "execution_count": null,
      "metadata": {
        "collapsed": false
      },
      "outputs": [],
      "source": [
        "param_grid = {\n    'weight_basket': np.logspace(-4 - 1, 5),\n    'weight_pyr': np.logspace(-4, -1, 5)\n}"
      ]
    },
    {
      "cell_type": "markdown",
      "metadata": {},
      "source": [
        "Define a function to calculate summary statistics\n\n"
      ]
    },
    {
      "cell_type": "code",
      "execution_count": null,
      "metadata": {
        "collapsed": false
      },
      "outputs": [],
      "source": [
        "def summary_func(results):\n    \"\"\"\n    Calculate the min and max dipole peak for each simulation result.\n\n    Parameters\n    ----------\n    results : list\n        List of dictionaries containing simulation results.\n\n    Returns\n    -------\n    summary_stats : list\n        Summary statistics for each simulation result.\n    \"\"\"\n    summary_stats = []\n    for result in results:\n        dpl_data = result['dpl'][0].data['agg']\n        min_peak = np.min(dpl_data)\n        max_peak = np.max(dpl_data)\n        summary_stats.append({'min_peak': min_peak, 'max_peak': max_peak})\n    return summary_stats"
      ]
    },
    {
      "cell_type": "markdown",
      "metadata": {},
      "source": [
        "Run the batch simulation and collect the results.\n\n"
      ]
    },
    {
      "cell_type": "code",
      "execution_count": null,
      "metadata": {
        "collapsed": false
      },
      "outputs": [],
      "source": [
        "# Comment off this code, if dask and distributed Python packages are installed\n# from dask.distributed import Client\n# client = Client(threads_per_worker=1, n_workers=5, processes=False)\n\n\n# Run the batch simulation and collect the results.\nbatch_simulation = BatchSimulate(set_params=set_params,\n                                 summary_func=summary_func)\nsimulation_results = batch_simulation.run(param_grid,\n                                          n_jobs=n_jobs,\n                                          combinations=False,\n                                          backend='multiprocessing')\n# backend='dask' if installed\nprint(\"Simulation results:\", simulation_results)"
      ]
    },
    {
      "cell_type": "markdown",
      "metadata": {},
      "source": [
        "## Extract and Plot Results\n\n"
      ]
    },
    {
      "cell_type": "code",
      "execution_count": null,
      "metadata": {
        "collapsed": false
      },
      "outputs": [],
      "source": [
        "# Extract min and max peaks for plotting\nmin_peaks, max_peaks = [], []\nfor res in simulation_results:\n    summary_stats = res[0]\n    min_peaks.append(summary_stats['min_peak'])\n    max_peaks.append(summary_stats['max_peak'])\n\n# Plotting\nplt.figure(figsize=(10, 6))\nplt.plot(min_peaks, label='Min Dipole Peak')\nplt.plot(max_peaks, label='Max Dipole Peak')\nplt.xlabel('Simulation Index')\nplt.ylabel('Dipole Peak Magnitude')\nplt.title('Min and Max Dipole Peaks across Simulations')\nplt.legend()\nplt.grid(True)\nplt.tight_layout()\nplt.show()"
      ]
    }
  ],
  "metadata": {
    "kernelspec": {
      "display_name": "Python 3",
      "language": "python",
      "name": "python3"
    },
    "language_info": {
      "codemirror_mode": {
        "name": "ipython",
        "version": 3
      },
      "file_extension": ".py",
      "mimetype": "text/x-python",
      "name": "python",
      "nbconvert_exporter": "python",
      "pygments_lexer": "ipython3",
      "version": "3.8.19"
    }
  },
  "nbformat": 4,
  "nbformat_minor": 0
}